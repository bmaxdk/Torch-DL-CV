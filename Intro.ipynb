{
 "cells": [
  {
   "cell_type": "markdown",
   "id": "bf9832c0",
   "metadata": {},
   "source": [
    "# Into to Tensor\n",
    "1D Tensors\n",
    "\n",
    "Tensor is a generalisation of matrices with N-Dimensions\n",
    "\n",
    "**Zero Dimensional Tensor** - Scalar\n",
    "\n",
    "**One Dimensional Tensor** - Vector\n",
    "\n",
    "**Two Dimensional Tensor** - Matrices\n",
    "\n",
    "So on..\n",
    "\n",
    "If torch is not installed\n",
    "```ipynb\n",
    "!pip3 install torch\n",
    "```\n"
   ]
  },
  {
   "cell_type": "code",
   "execution_count": 1,
   "id": "59c91d56",
   "metadata": {},
   "outputs": [
    {
     "name": "stdout",
     "output_type": "stream",
     "text": [
      "tensor([1, 2, 3])\n",
      "torch.int64\n",
      "tensor(1)\n"
     ]
    }
   ],
   "source": [
    "import torch\n",
    "# Building 1D tensor\n",
    "v = torch.tensor([1,2,3])\n",
    "print(v)\n",
    "\n",
    "# To check dtype\n",
    "print(v.dtype)\n",
    "\n",
    "# To acess the zeroth index\n",
    "print(v[0])"
   ]
  },
  {
   "cell_type": "code",
   "execution_count": 2,
   "id": "6f2c1f8b",
   "metadata": {},
   "outputs": [
    {
     "name": "stdout",
     "output_type": "stream",
     "text": [
      "tensor([2, 3, 4])\n",
      "tensor([2, 3, 4, 5, 6])\n",
      "f.dtype =  torch.float32\n",
      "f.size() torch.Size([5])\n",
      "v.dtype =  torch.int64\n",
      "v.size() =  torch.Size([6])\n",
      "tensor([1, 2, 3, 4, 5, 6])\n",
      "v_float.dtype =  torch.float32\n",
      "v_float.size() =  torch.Size([6])\n",
      "tensor([1., 2., 3., 4., 5., 6.])\n"
     ]
    }
   ],
   "source": [
    "v = torch.tensor([1,2,3, 4, 5, 6]) # create 1-D tensor output\n",
    "print(v[1:4])\n",
    "print(v[1:])\n",
    "\n",
    "# For float tensor\n",
    "f = torch.FloatTensor([2,3,4,5,6])\n",
    "\n",
    "# If you wish to convert v whicn int dtype to float dtype\n",
    "v_float = v.float()\n",
    "\n",
    "print(\"f.dtype = \", f.dtype)\n",
    "print(\"f.size()\", f.size())\n",
    "\n",
    "print(\"v.dtype = \", v.dtype)\n",
    "print(\"v.size() = \", v.size())\n",
    "print(v)\n",
    "print(\"v_float.dtype = \", v_float.dtype)\n",
    "print(\"v_float.size() = \", v_float.size())\n",
    "print(v_float)"
   ]
  },
  {
   "cell_type": "markdown",
   "id": "eeac1ead",
   "metadata": {},
   "source": [
    "### Rearrange this tensor\n"
   ]
  },
  {
   "cell_type": "code",
   "execution_count": 3,
   "id": "189ca5ec",
   "metadata": {},
   "outputs": [
    {
     "name": "stdout",
     "output_type": "stream",
     "text": [
      "v =  tensor([1, 2, 3, 4, 5, 6])\n",
      "v.view(6,1) = \n",
      " tensor([[1],\n",
      "        [2],\n",
      "        [3],\n",
      "        [4],\n",
      "        [5],\n",
      "        [6]])\n",
      "v.view(3,2) = \n",
      " tensor([[1, 2],\n",
      "        [3, 4],\n",
      "        [5, 6]])\n",
      "v.view(3,-1) = \n",
      " tensor([[1, 2],\n",
      "        [3, 4],\n",
      "        [5, 6]])\n",
      "v.view(-1,2) = \n",
      " tensor([[1, 2],\n",
      "        [3, 4],\n",
      "        [5, 6]])\n"
     ]
    }
   ],
   "source": [
    "print(\"v = \", v)\n",
    "print(\"v.view(6,1) = \\n\", v.view(6,1))\n",
    "\n",
    "# If size is wrong, it will have Runtime Error for shape.\n",
    "\n",
    "print(\"v.view(3,2) = \\n\", v.view(3,2))\n",
    "\n",
    "print(\"v.view(3,-1) = \\n\", v.view(3,-1))\n",
    "\n",
    "print(\"v.view(-1,2) = \\n\", v.view(-1,2))\n"
   ]
  },
  {
   "cell_type": "markdown",
   "id": "8b6fc9cf",
   "metadata": {},
   "source": [
    "### Using Numpy\n",
    "Convert tensor to numpy\n",
    "\n",
    "`v.numpy()`\n",
    "\n",
    "Convert numpy to tensor\n",
    "\n",
    "`torch.from_numpy(v_np)`"
   ]
  },
  {
   "cell_type": "code",
   "execution_count": 4,
   "id": "42af7db4",
   "metadata": {},
   "outputs": [
    {
     "name": "stdout",
     "output_type": "stream",
     "text": [
      "int64\n",
      "[1 2 3 4 5 6]\n",
      "tensor([1, 2, 3, 4, 5, 6])\n",
      "torch.int64\n"
     ]
    }
   ],
   "source": [
    "import numpy as np\n",
    "\n",
    "v_np = np.array([1,2,3,4,5,6])\n",
    "# or\n",
    "v_np = v.numpy()\n",
    "print(v_np.dtype)\n",
    "print(v_np)\n",
    "\n",
    "# convert numpy to tensor\n",
    "tensor_cnv = torch.from_numpy(v_np)\n",
    "print(tensor_cnv)\n",
    "print(tensor_cnv.dtype)"
   ]
  },
  {
   "cell_type": "markdown",
   "id": "83b8631b",
   "metadata": {},
   "source": [
    "# Vector Operations"
   ]
  },
  {
   "cell_type": "code",
   "execution_count": 5,
   "id": "951f222e",
   "metadata": {},
   "outputs": [
    {
     "name": "stdout",
     "output_type": "stream",
     "text": [
      "tensor([2, 4, 6])\n",
      "tensor([1, 4, 9])\n",
      "tensor([1., 1., 1.])\n",
      "tensor([ 5, 10, 15])\n"
     ]
    }
   ],
   "source": [
    "# 1D tensor\n",
    "t_one = torch.tensor([1,2,3])\n",
    "t_two = torch.tensor([1,2,3])\n",
    "\n",
    "print(t_one + t_two)\n",
    "print(t_one * t_two)\n",
    "print(t_one / t_two)\n",
    "print(t_one * 5)"
   ]
  },
  {
   "cell_type": "code",
   "execution_count": 6,
   "id": "4a3a5873",
   "metadata": {},
   "outputs": [
    {
     "name": "stdout",
     "output_type": "stream",
     "text": [
      "tensor(14)\n"
     ]
    }
   ],
   "source": [
    "dot_product = torch.dot(t_one, t_two)\n",
    "print(dot_product)"
   ]
  },
  {
   "cell_type": "code",
   "execution_count": 7,
   "id": "92ad6159",
   "metadata": {},
   "outputs": [
    {
     "name": "stdout",
     "output_type": "stream",
     "text": [
      "tensor([ 0.0000,  0.1010,  0.2020,  0.3030,  0.4040,  0.5051,  0.6061,  0.7071,\n",
      "         0.8081,  0.9091,  1.0101,  1.1111,  1.2121,  1.3131,  1.4141,  1.5152,\n",
      "         1.6162,  1.7172,  1.8182,  1.9192,  2.0202,  2.1212,  2.2222,  2.3232,\n",
      "         2.4242,  2.5253,  2.6263,  2.7273,  2.8283,  2.9293,  3.0303,  3.1313,\n",
      "         3.2323,  3.3333,  3.4343,  3.5354,  3.6364,  3.7374,  3.8384,  3.9394,\n",
      "         4.0404,  4.1414,  4.2424,  4.3434,  4.4444,  4.5455,  4.6465,  4.7475,\n",
      "         4.8485,  4.9495,  5.0505,  5.1515,  5.2525,  5.3535,  5.4545,  5.5556,\n",
      "         5.6566,  5.7576,  5.8586,  5.9596,  6.0606,  6.1616,  6.2626,  6.3636,\n",
      "         6.4646,  6.5657,  6.6667,  6.7677,  6.8687,  6.9697,  7.0707,  7.1717,\n",
      "         7.2727,  7.3737,  7.4747,  7.5758,  7.6768,  7.7778,  7.8788,  7.9798,\n",
      "         8.0808,  8.1818,  8.2828,  8.3838,  8.4848,  8.5859,  8.6869,  8.7879,\n",
      "         8.8889,  8.9899,  9.0909,  9.1919,  9.2929,  9.3939,  9.4950,  9.5960,\n",
      "         9.6970,  9.7980,  9.8990, 10.0000])\n"
     ]
    },
    {
     "name": "stderr",
     "output_type": "stream",
     "text": [
      "/home/eight/anaconda3/envs/torchunity_6_18_2023/lib/python3.6/site-packages/ipykernel_launcher.py:2: UserWarning: Not providing a value for linspace's steps is deprecated and will throw a runtime error in a future release. This warning will appear only once per process. (Triggered internally at  /tmp/pip-req-build-i4pra_71/aten/src/ATen/native/RangeFactories.cpp:23.)\n",
      "  \n"
     ]
    }
   ],
   "source": [
    "# torch.linspace(start, end) which prints out 100 equally spaced number between start to end\n",
    "print(torch.linspace(0, 10))"
   ]
  },
  {
   "cell_type": "code",
   "execution_count": null,
   "id": "f863809f",
   "metadata": {},
   "outputs": [],
   "source": []
  },
  {
   "cell_type": "code",
   "execution_count": null,
   "id": "a03f89b3",
   "metadata": {},
   "outputs": [],
   "source": []
  },
  {
   "cell_type": "code",
   "execution_count": null,
   "id": "afba194c",
   "metadata": {},
   "outputs": [],
   "source": []
  },
  {
   "cell_type": "code",
   "execution_count": null,
   "id": "9ca03bab",
   "metadata": {},
   "outputs": [],
   "source": []
  },
  {
   "cell_type": "code",
   "execution_count": null,
   "id": "e0f621c7",
   "metadata": {},
   "outputs": [],
   "source": []
  },
  {
   "cell_type": "code",
   "execution_count": null,
   "id": "093478b8",
   "metadata": {},
   "outputs": [],
   "source": []
  }
 ],
 "metadata": {
  "kernelspec": {
   "display_name": "Python 3",
   "language": "python",
   "name": "python3"
  },
  "language_info": {
   "codemirror_mode": {
    "name": "ipython",
    "version": 3
   },
   "file_extension": ".py",
   "mimetype": "text/x-python",
   "name": "python",
   "nbconvert_exporter": "python",
   "pygments_lexer": "ipython3",
   "version": "3.6.13"
  }
 },
 "nbformat": 4,
 "nbformat_minor": 5
}
