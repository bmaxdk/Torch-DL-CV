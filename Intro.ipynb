{
 "cells": [
  {
   "cell_type": "markdown",
   "id": "bf9832c0",
   "metadata": {},
   "source": [
    "# Into to Tensor\n",
    "1D Tensors\n",
    "\n",
    "Tensor is a generalisation of matrices with N-Dimensions\n",
    "\n",
    "**Zero Dimensional Tensor** - Scalar\n",
    "\n",
    "**One Dimensional Tensor** - Vector\n",
    "\n",
    "**Two Dimensional Tensor** - Matrices\n",
    "\n",
    "So on..\n",
    "\n",
    "If torch is not installed\n",
    "```ipynb\n",
    "!pip3 install torch\n",
    "```\n"
   ]
  },
  {
   "cell_type": "code",
   "execution_count": 1,
   "id": "59c91d56",
   "metadata": {},
   "outputs": [
    {
     "name": "stdout",
     "output_type": "stream",
     "text": [
      "tensor([1, 2, 3])\n",
      "torch.int64\n",
      "tensor(1)\n"
     ]
    }
   ],
   "source": [
    "import torch\n",
    "# Building 1D tensor\n",
    "v = torch.tensor([1,2,3])\n",
    "print(v)\n",
    "\n",
    "# To check dtype\n",
    "print(v.dtype)\n",
    "\n",
    "# To acess the zeroth index\n",
    "print(v[0])"
   ]
  },
  {
   "cell_type": "code",
   "execution_count": 2,
   "id": "6f2c1f8b",
   "metadata": {},
   "outputs": [
    {
     "name": "stdout",
     "output_type": "stream",
     "text": [
      "tensor([2, 3, 4])\n",
      "tensor([2, 3, 4, 5, 6])\n",
      "f.dtype =  torch.float32\n",
      "f.size() torch.Size([5])\n",
      "v.dtype =  torch.int64\n",
      "v.size() =  torch.Size([6])\n",
      "tensor([1, 2, 3, 4, 5, 6])\n",
      "v_float.dtype =  torch.float32\n",
      "v_float.size() =  torch.Size([6])\n",
      "tensor([1., 2., 3., 4., 5., 6.])\n"
     ]
    }
   ],
   "source": [
    "v = torch.tensor([1,2,3, 4, 5, 6]) # create 1-D tensor output\n",
    "print(v[1:4])\n",
    "print(v[1:])\n",
    "\n",
    "# For float tensor\n",
    "f = torch.FloatTensor([2,3,4,5,6])\n",
    "\n",
    "# If you wish to convert v whicn int dtype to float dtype\n",
    "v_float = v.float()\n",
    "\n",
    "print(\"f.dtype = \", f.dtype)\n",
    "print(\"f.size()\", f.size())\n",
    "\n",
    "print(\"v.dtype = \", v.dtype)\n",
    "print(\"v.size() = \", v.size())\n",
    "print(v)\n",
    "print(\"v_float.dtype = \", v_float.dtype)\n",
    "print(\"v_float.size() = \", v_float.size())\n",
    "print(v_float)"
   ]
  },
  {
   "cell_type": "markdown",
   "id": "eeac1ead",
   "metadata": {},
   "source": [
    "### Rearrange this tensor\n"
   ]
  },
  {
   "cell_type": "code",
   "execution_count": 3,
   "id": "189ca5ec",
   "metadata": {},
   "outputs": [
    {
     "name": "stdout",
     "output_type": "stream",
     "text": [
      "v =  tensor([1, 2, 3, 4, 5, 6])\n",
      "v.view(6,1) = \n",
      " tensor([[1],\n",
      "        [2],\n",
      "        [3],\n",
      "        [4],\n",
      "        [5],\n",
      "        [6]])\n",
      "v.view(3,2) = \n",
      " tensor([[1, 2],\n",
      "        [3, 4],\n",
      "        [5, 6]])\n",
      "v.view(3,-1) = \n",
      " tensor([[1, 2],\n",
      "        [3, 4],\n",
      "        [5, 6]])\n",
      "v.view(-1,2) = \n",
      " tensor([[1, 2],\n",
      "        [3, 4],\n",
      "        [5, 6]])\n"
     ]
    }
   ],
   "source": [
    "print(\"v = \", v)\n",
    "print(\"v.view(6,1) = \\n\", v.view(6,1))\n",
    "\n",
    "# If size is wrong, it will have Runtime Error for shape.\n",
    "\n",
    "print(\"v.view(3,2) = \\n\", v.view(3,2))\n",
    "\n",
    "print(\"v.view(3,-1) = \\n\", v.view(3,-1))\n",
    "\n",
    "print(\"v.view(-1,2) = \\n\", v.view(-1,2))\n"
   ]
  },
  {
   "cell_type": "markdown",
   "id": "8b6fc9cf",
   "metadata": {},
   "source": [
    "### Using Numpy\n",
    "Convert tensor to numpy\n",
    "\n",
    "`v.numpy()`\n",
    "\n",
    "Convert numpy to tensor\n",
    "\n",
    "`torch.from_numpy(v_np)`"
   ]
  },
  {
   "cell_type": "code",
   "execution_count": 4,
   "id": "42af7db4",
   "metadata": {},
   "outputs": [
    {
     "name": "stdout",
     "output_type": "stream",
     "text": [
      "int64\n",
      "[1 2 3 4 5 6]\n",
      "tensor([1, 2, 3, 4, 5, 6])\n",
      "torch.int64\n"
     ]
    }
   ],
   "source": [
    "import numpy as np\n",
    "\n",
    "v_np = np.array([1,2,3,4,5,6])\n",
    "# or\n",
    "v_np = v.numpy()\n",
    "print(v_np.dtype)\n",
    "print(v_np)\n",
    "\n",
    "# convert numpy to tensor\n",
    "tensor_cnv = torch.from_numpy(v_np)\n",
    "print(tensor_cnv)\n",
    "print(tensor_cnv.dtype)"
   ]
  },
  {
   "cell_type": "markdown",
   "id": "83b8631b",
   "metadata": {},
   "source": [
    "# Vector Operations"
   ]
  },
  {
   "cell_type": "code",
   "execution_count": 5,
   "id": "951f222e",
   "metadata": {},
   "outputs": [
    {
     "name": "stdout",
     "output_type": "stream",
     "text": [
      "tensor([2, 4, 6])\n",
      "tensor([1, 4, 9])\n",
      "tensor([1., 1., 1.])\n",
      "tensor([ 5, 10, 15])\n"
     ]
    }
   ],
   "source": [
    "# 1D tensor\n",
    "t_one = torch.tensor([1,2,3])\n",
    "t_two = torch.tensor([1,2,3])\n",
    "\n",
    "print(t_one + t_two)\n",
    "print(t_one * t_two)\n",
    "print(t_one / t_two)\n",
    "print(t_one * 5)"
   ]
  },
  {
   "cell_type": "code",
   "execution_count": 6,
   "id": "4a3a5873",
   "metadata": {},
   "outputs": [
    {
     "name": "stdout",
     "output_type": "stream",
     "text": [
      "tensor(14)\n"
     ]
    }
   ],
   "source": [
    "dot_product = torch.dot(t_one, t_two)\n",
    "print(dot_product)"
   ]
  },
  {
   "cell_type": "code",
   "execution_count": 19,
   "id": "92ad6159",
   "metadata": {},
   "outputs": [
    {
     "name": "stdout",
     "output_type": "stream",
     "text": [
      "tensor([ 0.0000,  0.1010,  0.2020,  0.3030,  0.4040,  0.5051,  0.6061,  0.7071,\n",
      "         0.8081,  0.9091,  1.0101,  1.1111,  1.2121,  1.3131,  1.4141,  1.5152,\n",
      "         1.6162,  1.7172,  1.8182,  1.9192,  2.0202,  2.1212,  2.2222,  2.3232,\n",
      "         2.4242,  2.5253,  2.6263,  2.7273,  2.8283,  2.9293,  3.0303,  3.1313,\n",
      "         3.2323,  3.3333,  3.4343,  3.5354,  3.6364,  3.7374,  3.8384,  3.9394,\n",
      "         4.0404,  4.1414,  4.2424,  4.3434,  4.4444,  4.5455,  4.6465,  4.7475,\n",
      "         4.8485,  4.9495,  5.0505,  5.1515,  5.2525,  5.3535,  5.4545,  5.5556,\n",
      "         5.6566,  5.7576,  5.8586,  5.9596,  6.0606,  6.1616,  6.2626,  6.3636,\n",
      "         6.4646,  6.5657,  6.6667,  6.7677,  6.8687,  6.9697,  7.0707,  7.1717,\n",
      "         7.2727,  7.3737,  7.4747,  7.5758,  7.6768,  7.7778,  7.8788,  7.9798,\n",
      "         8.0808,  8.1818,  8.2828,  8.3838,  8.4848,  8.5859,  8.6869,  8.7879,\n",
      "         8.8889,  8.9899,  9.0909,  9.1919,  9.2929,  9.3939,  9.4950,  9.5960,\n",
      "         9.6970,  9.7980,  9.8990, 10.0000])\n",
      "\n",
      "tensor([ 0.0000,  2.5000,  5.0000,  7.5000, 10.0000])\n",
      "tensor([1.0000e+00, 1.2264e+00, 1.5041e+00, 1.8446e+00, 2.2622e+00, 2.7743e+00,\n",
      "        3.4024e+00, 4.1727e+00, 5.1174e+00, 6.2760e+00, 7.6969e+00, 9.4395e+00,\n",
      "        1.1577e+01, 1.4197e+01, 1.7412e+01, 2.1354e+01, 2.6188e+01, 3.2117e+01,\n",
      "        3.9388e+01, 4.8306e+01, 5.9242e+01, 7.2654e+01, 8.9103e+01, 1.0928e+02,\n",
      "        1.3402e+02, 1.6436e+02, 2.0157e+02, 2.4720e+02, 3.0317e+02, 3.7180e+02,\n",
      "        4.5598e+02, 5.5921e+02, 6.8582e+02, 8.4109e+02, 1.0315e+03, 1.2650e+03,\n",
      "        1.5514e+03, 1.9027e+03, 2.3334e+03, 2.8617e+03, 3.5096e+03, 4.3042e+03,\n",
      "        5.2787e+03, 6.4737e+03, 7.9394e+03, 9.7369e+03, 1.1941e+04, 1.4645e+04,\n",
      "        1.7960e+04, 2.2026e+04])\n"
     ]
    }
   ],
   "source": [
    "# torch.linspace(start, end, stepsize) which prints out 100 equally spaced number between start to end\n",
    "print(torch.linspace(0, 10))\n",
    "print()\n",
    "print(torch.linspace(0, 10, 5))\n",
    "x = torch.linspace(0, 10, 50)\n",
    "y = torch.exp(x)\n",
    "print(y)"
   ]
  },
  {
   "cell_type": "code",
   "execution_count": 20,
   "id": "f863809f",
   "metadata": {},
   "outputs": [
    {
     "data": {
      "text/plain": [
       "[<matplotlib.lines.Line2D at 0x7f94783a7710>]"
      ]
     },
     "execution_count": 20,
     "metadata": {},
     "output_type": "execute_result"
    },
    {
     "data": {
      "image/png": "[encoded data removed]",
      "text/plain": [
       "<Figure size 432x288 with 1 Axes>"
      ]
     },
     "metadata": {
      "needs_background": "light"
     },
     "output_type": "display_data"
    }
   ],
   "source": [
    "import matplotlib.pyplot as plt\n",
    "\n",
    "plt.plot(x,y)\n",
    "# Need to conver to numpy to plot\n",
    "plt.plot(x.numpy(),y.numpy())\n"
   ]
  },
  {
   "cell_type": "code",
   "execution_count": 21,
   "id": "a03f89b3",
   "metadata": {},
   "outputs": [
    {
     "data": {
      "text/plain": [
       "[<matplotlib.lines.Line2D at 0x7f947829d828>]"
      ]
     },
     "execution_count": 21,
     "metadata": {},
     "output_type": "execute_result"
    },
    {
     "data": {
      "image/png": "[encoded data removed]",
      "text/plain": [
       "<Figure size 432x288 with 1 Axes>"
      ]
     },
     "metadata": {
      "needs_background": "light"
     },
     "output_type": "display_data"
    }
   ],
   "source": [
    "newy = torch.sin(x)\n",
    "plt.plot(x.numpy(), newy.numpy())"
   ]
  },
  {
   "cell_type": "markdown",
   "id": "b7f9a8d9",
   "metadata": {},
   "source": [
    "# 2D Tensors"
   ]
  },
  {
   "cell_type": "code",
   "execution_count": 22,
   "id": "2eda7c39",
   "metadata": {},
   "outputs": [
    {
     "name": "stdout",
     "output_type": "stream",
     "text": [
      "tensor([2, 3, 4, 5, 6])\n"
     ]
    }
   ],
   "source": [
    "import torch\n",
    "\n",
    "one_d = torch.arange(2, 7)\n",
    "print(one_d)"
   ]
  },
  {
   "cell_type": "code",
   "execution_count": 24,
   "id": "9c232c8e",
   "metadata": {},
   "outputs": [
    {
     "name": "stdout",
     "output_type": "stream",
     "text": [
      "tensor([2, 4, 6])\n"
     ]
    }
   ],
   "source": [
    "one_d = torch.arange(2, 7, 2)\n",
    "print(one_d)"
   ]
  },
  {
   "cell_type": "code",
   "execution_count": 26,
   "id": "7bc01af0",
   "metadata": {},
   "outputs": [
    {
     "name": "stdout",
     "output_type": "stream",
     "text": [
      "tensor([[0, 1, 2],\n",
      "        [3, 4, 5],\n",
      "        [6, 7, 8]])\n"
     ]
    }
   ],
   "source": [
    "one_d = torch.arange(0,9)\n",
    "two_d = one_d.view(3,3)\n",
    "print(two_d)"
   ]
  },
  {
   "cell_type": "code",
   "execution_count": 27,
   "id": "cac56bcb",
   "metadata": {},
   "outputs": [
    {
     "data": {
      "text/plain": [
       "2"
      ]
     },
     "execution_count": 27,
     "metadata": {},
     "output_type": "execute_result"
    }
   ],
   "source": [
    "two_d.dim() # Indicate dimensions"
   ]
  },
  {
   "cell_type": "code",
   "execution_count": 28,
   "id": "86b84a03",
   "metadata": {},
   "outputs": [
    {
     "data": {
      "text/plain": [
       "tensor(5)"
      ]
     },
     "execution_count": 28,
     "metadata": {},
     "output_type": "execute_result"
    }
   ],
   "source": [
    "two_d[1,2]\n"
   ]
  },
  {
   "cell_type": "code",
   "execution_count": 30,
   "id": "7229ac31",
   "metadata": {},
   "outputs": [
    {
     "name": "stdout",
     "output_type": "stream",
     "text": [
      "tensor([[[ 0,  1,  2],\n",
      "         [ 3,  4,  5],\n",
      "         [ 6,  7,  8]],\n",
      "\n",
      "        [[ 9, 10, 11],\n",
      "         [12, 13, 14],\n",
      "         [15, 16, 17]]])\n"
     ]
    }
   ],
   "source": [
    "x = torch.arange(18).view(2,3,3)\n",
    "print(x)"
   ]
  },
  {
   "cell_type": "markdown",
   "id": "df1ef97a",
   "metadata": {},
   "source": [
    "# Slicing 3D Tensor"
   ]
  },
  {
   "cell_type": "code",
   "execution_count": 31,
   "id": "a9bb2b1b",
   "metadata": {},
   "outputs": [
    {
     "name": "stdout",
     "output_type": "stream",
     "text": [
      "tensor([[[ 0,  1,  2],\n",
      "         [ 3,  4,  5]],\n",
      "\n",
      "        [[ 6,  7,  8],\n",
      "         [ 9, 10, 11]],\n",
      "\n",
      "        [[12, 13, 14],\n",
      "         [15, 16, 17]]])\n"
     ]
    }
   ],
   "source": [
    "x = torch.arange(18).view(3,2,3)\n",
    "print(x)"
   ]
  },
  {
   "cell_type": "code",
   "execution_count": 32,
   "id": "b2e4a8fa",
   "metadata": {},
   "outputs": [
    {
     "data": {
      "text/plain": [
       "tensor(10)"
      ]
     },
     "execution_count": 32,
     "metadata": {},
     "output_type": "execute_result"
    }
   ],
   "source": [
    "x[1,1,1]"
   ]
  },
  {
   "cell_type": "code",
   "execution_count": 33,
   "id": "5d4da917",
   "metadata": {},
   "outputs": [
    {
     "data": {
      "text/plain": [
       "tensor([[ 6,  7,  8],\n",
       "        [ 9, 10, 11]])"
      ]
     },
     "execution_count": 33,
     "metadata": {},
     "output_type": "execute_result"
    }
   ],
   "source": [
    "x[1,:,:]"
   ]
  },
  {
   "cell_type": "code",
   "execution_count": 35,
   "id": "57f5e407",
   "metadata": {},
   "outputs": [
    {
     "data": {
      "text/plain": [
       "tensor([[ 6,  7,  8],\n",
       "        [ 9, 10, 11]])"
      ]
     },
     "execution_count": 35,
     "metadata": {},
     "output_type": "execute_result"
    }
   ],
   "source": [
    "x[1,0:2, 0:3]"
   ]
  },
  {
   "cell_type": "markdown",
   "id": "146f969a",
   "metadata": {},
   "source": [
    "# Matrix Multiplication with Tensor"
   ]
  },
  {
   "cell_type": "code",
   "execution_count": 37,
   "id": "391ddb14",
   "metadata": {},
   "outputs": [
    {
     "name": "stdout",
     "output_type": "stream",
     "text": [
      "tensor([[0, 3, 5],\n",
      "        [5, 5, 2]])\n",
      "tensor([[ 3,  4],\n",
      "        [ 3, -2],\n",
      "        [ 4, -2]])\n"
     ]
    }
   ],
   "source": [
    "mat_a = torch.tensor([0, 3, 5, 5, 5, 2]).view(2,3)\n",
    "print(mat_a)\n",
    "\n",
    "mat_b = torch.tensor([3, 4, 3, -2, 4, -2]).view(3,2)\n",
    "print(mat_b)"
   ]
  },
  {
   "cell_type": "code",
   "execution_count": 38,
   "id": "2d3ad2df",
   "metadata": {},
   "outputs": [
    {
     "data": {
      "text/plain": [
       "tensor([[ 29, -16],\n",
       "        [ 38,   6]])"
      ]
     },
     "execution_count": 38,
     "metadata": {},
     "output_type": "execute_result"
    }
   ],
   "source": [
    "torch.matmul(mat_a, mat_b)"
   ]
  },
  {
   "cell_type": "code",
   "execution_count": 39,
   "id": "1e300602",
   "metadata": {},
   "outputs": [
    {
     "data": {
      "text/plain": [
       "tensor([[ 29, -16],\n",
       "        [ 38,   6]])"
      ]
     },
     "execution_count": 39,
     "metadata": {},
     "output_type": "execute_result"
    }
   ],
   "source": [
    "mat_a @ mat_b"
   ]
  },
  {
   "cell_type": "markdown",
   "id": "b0430579",
   "metadata": {},
   "source": [
    "# Gradient with PyTorch\n",
    "When applying gradient, need `x = torch.tensor(number, requires_grad=True)`\n"
   ]
  },
  {
   "cell_type": "code",
   "execution_count": 40,
   "id": "f3a18c42",
   "metadata": {},
   "outputs": [
    {
     "data": {
      "text/plain": [
       "tensor(330.)"
      ]
     },
     "execution_count": 40,
     "metadata": {},
     "output_type": "execute_result"
    }
   ],
   "source": [
    "x = torch.tensor(2.0, requires_grad=True) \n",
    "y = 9*x**4 + 2*x**3 + 3*x**2 + 6*x + 1\n",
    "\n",
    "y.backward()\n",
    "x.grad"
   ]
  },
  {
   "cell_type": "markdown",
   "id": "38be7a35",
   "metadata": {},
   "source": [
    "$y = x^2 + z^3$\n",
    "\n",
    "Apply partialderivative of x which is 2x\n",
    "\n",
    "Apply partialderivative of z which is 3z"
   ]
  },
  {
   "cell_type": "code",
   "execution_count": 45,
   "id": "2cc503f3",
   "metadata": {},
   "outputs": [
    {
     "name": "stdout",
     "output_type": "stream",
     "text": [
      "tensor(2.)\n",
      "tensor(3.)\n"
     ]
    }
   ],
   "source": [
    "x = torch.tensor(1.0, requires_grad=True)\n",
    "z = torch.tensor(1.0, requires_grad=True)\n",
    "y = x**2 + z**3\n",
    "y.backward()\n",
    "print(x.grad)\n",
    "print(z.grad)"
   ]
  },
  {
   "cell_type": "code",
   "execution_count": null,
   "id": "ff9a584d",
   "metadata": {},
   "outputs": [],
   "source": []
  },
  {
   "cell_type": "code",
   "execution_count": null,
   "id": "96b91559",
   "metadata": {},
   "outputs": [],
   "source": []
  },
  {
   "cell_type": "code",
   "execution_count": null,
   "id": "afa08cb8",
   "metadata": {},
   "outputs": [],
   "source": []
  }
 ],
 "metadata": {
  "kernelspec": {
   "display_name": "Python 3",
   "language": "python",
   "name": "python3"
  },
  "language_info": {
   "codemirror_mode": {
    "name": "ipython",
    "version": 3
   },
   "file_extension": ".py",
   "mimetype": "text/x-python",
   "name": "python",
   "nbconvert_exporter": "python",
   "pygments_lexer": "ipython3",
   "version": "3.6.13"
  }
 },
 "nbformat": 4,
 "nbformat_minor": 5
}
