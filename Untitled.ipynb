{
 "cells": [
  {
   "cell_type": "markdown",
   "id": "006c7cba",
   "metadata": {},
   "source": [
    "# 1"
   ]
  },
  {
   "cell_type": "code",
   "execution_count": 10,
   "id": "072336bd",
   "metadata": {},
   "outputs": [
    {
     "name": "stdout",
     "output_type": "stream",
     "text": [
      "tensor([1, 2, 3, 4, 5, 6])\n",
      "torch.int64\n",
      "tensor(1)\n",
      "tensor(2)\n",
      "tensor([2, 3, 4])\n",
      "tensor([2, 3, 4, 5, 6])\n",
      "torch.float32\n",
      "torch.Size([5])\n"
     ]
    }
   ],
   "source": [
    "# Creating a one dimensitional tensor using torch\n",
    "import torch\n",
    "\n",
    "v = torch.tensor([1,2,3, 4, 5, 6]) # create 1-D tensor output\n",
    "print(v)\n",
    "print(v.dtype)\n",
    "\n",
    "print(v[0])\n",
    "print(v[1])\n",
    "\n",
    "print(v[1:4])\n",
    "\n",
    "print(v[1:])\n",
    "\n",
    "# For float tensor\n",
    "f = torch.FloatTensor([2,3,4,5,6])\n",
    "\n",
    "print(f.dtype)\n",
    "print(f.size())"
   ]
  },
  {
   "cell_type": "code",
   "execution_count": null,
   "id": "40804198",
   "metadata": {},
   "outputs": [],
   "source": []
  },
  {
   "cell_type": "code",
   "execution_count": null,
   "id": "88636b7b",
   "metadata": {},
   "outputs": [],
   "source": []
  },
  {
   "cell_type": "code",
   "execution_count": null,
   "id": "0a3fd6ad",
   "metadata": {},
   "outputs": [],
   "source": []
  },
  {
   "cell_type": "code",
   "execution_count": null,
   "id": "06a52306",
   "metadata": {},
   "outputs": [],
   "source": []
  }
 ],
 "metadata": {
  "kernelspec": {
   "display_name": "Python 3",
   "language": "python",
   "name": "python3"
  },
  "language_info": {
   "codemirror_mode": {
    "name": "ipython",
    "version": 3
   },
   "file_extension": ".py",
   "mimetype": "text/x-python",
   "name": "python",
   "nbconvert_exporter": "python",
   "pygments_lexer": "ipython3",
   "version": "3.6.13"
  }
 },
 "nbformat": 4,
 "nbformat_minor": 5
}
